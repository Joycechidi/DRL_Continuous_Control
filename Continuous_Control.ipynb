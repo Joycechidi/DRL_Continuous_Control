{
 "cells": [
  {
   "cell_type": "markdown",
   "metadata": {},
   "source": [
    "# Continuous Control\n",
    "\n",
    "---\n",
    "\n",
    "You are welcome to use this coding environment to train your agent for the project.  Follow the instructions below to get started!\n",
    "\n",
    "### 1. Start the Environment\n",
    "\n",
    "Run the next code cell to install a few packages.  This line will take a few minutes to run!"
   ]
  },
  {
   "cell_type": "code",
   "execution_count": 1,
   "metadata": {},
   "outputs": [
    {
     "name": "stdout",
     "output_type": "stream",
     "text": [
      "\u001b[31mtensorflow 1.7.1 has requirement numpy>=1.13.3, but you'll have numpy 1.12.1 which is incompatible.\u001b[0m\r\n",
      "\u001b[31mipython 6.5.0 has requirement prompt-toolkit<2.0.0,>=1.0.15, but you'll have prompt-toolkit 2.0.10 which is incompatible.\u001b[0m\r\n"
     ]
    }
   ],
   "source": [
    "!pip -q install ./python"
   ]
  },
  {
   "cell_type": "markdown",
   "metadata": {},
   "source": [
    "The environments corresponding to both versions of the environment are already saved in the Workspace and can be accessed at the file paths provided below.  \n",
    "\n",
    "Please select one of the two options below for loading the environment."
   ]
  },
  {
   "cell_type": "code",
   "execution_count": 2,
   "metadata": {
    "scrolled": true
   },
   "outputs": [
    {
     "name": "stderr",
     "output_type": "stream",
     "text": [
      "INFO:unityagents:\n",
      "'Academy' started successfully!\n",
      "Unity Academy name: Academy\n",
      "        Number of Brains: 1\n",
      "        Number of External Brains : 1\n",
      "        Lesson number : 0\n",
      "        Reset Parameters :\n",
      "\t\tgoal_speed -> 1.0\n",
      "\t\tgoal_size -> 5.0\n",
      "Unity brain name: ReacherBrain\n",
      "        Number of Visual Observations (per agent): 0\n",
      "        Vector Observation space type: continuous\n",
      "        Vector Observation space size (per agent): 33\n",
      "        Number of stacked Vector Observation: 1\n",
      "        Vector Action space type: continuous\n",
      "        Vector Action space size (per agent): 4\n",
      "        Vector Action descriptions: , , , \n"
     ]
    }
   ],
   "source": [
    "from unityagents import UnityEnvironment\n",
    "import numpy as np\n",
    "\n",
    "# select this option to load version 1 (with a single agent) of the environment\n",
    "env = UnityEnvironment(file_name='/data/Reacher_One_Linux_NoVis/Reacher_One_Linux_NoVis.x86_64')\n",
    "\n",
    "# select this option to load version 2 (with 20 agents) of the environment\n",
    "#env = UnityEnvironment(file_name='/data/Reacher_Linux_NoVis/Reacher.x86_64')"
   ]
  },
  {
   "cell_type": "markdown",
   "metadata": {},
   "source": [
    "Environments contain **_brains_** which are responsible for deciding the actions of their associated agents. Here we check for the first brain available, and set it as the default brain we will be controlling from Python."
   ]
  },
  {
   "cell_type": "code",
   "execution_count": 3,
   "metadata": {},
   "outputs": [],
   "source": [
    "# get the default brain\n",
    "brain_name = env.brain_names[0]\n",
    "brain = env.brains[brain_name]"
   ]
  },
  {
   "cell_type": "markdown",
   "metadata": {},
   "source": [
    "### 2. Examine the State and Action Spaces\n",
    "\n",
    "Run the code cell below to print some information about the environment."
   ]
  },
  {
   "cell_type": "code",
   "execution_count": 4,
   "metadata": {},
   "outputs": [
    {
     "name": "stdout",
     "output_type": "stream",
     "text": [
      "Number of agents: 1\n",
      "Size of each action: 4\n",
      "There are 1 agents. Each observes a state with length: 33\n",
      "The state for the first agent looks like: [  0.00000000e+00  -4.00000000e+00   0.00000000e+00   1.00000000e+00\n",
      "  -0.00000000e+00  -0.00000000e+00  -4.37113883e-08   0.00000000e+00\n",
      "   0.00000000e+00   0.00000000e+00   0.00000000e+00   0.00000000e+00\n",
      "   0.00000000e+00   0.00000000e+00  -1.00000000e+01   0.00000000e+00\n",
      "   1.00000000e+00  -0.00000000e+00  -0.00000000e+00  -4.37113883e-08\n",
      "   0.00000000e+00   0.00000000e+00   0.00000000e+00   0.00000000e+00\n",
      "   0.00000000e+00   0.00000000e+00   5.75471878e+00  -1.00000000e+00\n",
      "   5.55726671e+00   0.00000000e+00   1.00000000e+00   0.00000000e+00\n",
      "  -1.68164849e-01]\n"
     ]
    }
   ],
   "source": [
    "# reset the environment\n",
    "env_info = env.reset(train_mode=True)[brain_name]\n",
    "\n",
    "# number of agents\n",
    "num_agents = len(env_info.agents)\n",
    "print('Number of agents:', num_agents)\n",
    "\n",
    "# size of each action\n",
    "action_size = brain.vector_action_space_size\n",
    "print('Size of each action:', action_size)\n",
    "\n",
    "# examine the state space \n",
    "states = env_info.vector_observations\n",
    "state_size = states.shape[1]\n",
    "print('There are {} agents. Each observes a state with length: {}'.format(states.shape[0], state_size))\n",
    "print('The state for the first agent looks like:', states[0])"
   ]
  },
  {
   "cell_type": "markdown",
   "metadata": {},
   "source": [
    "### 3. Take Random Actions in the Environment\n",
    "\n",
    "In the next code cell, you will learn how to use the Python API to control the agent and receive feedback from the environment.\n",
    "\n",
    "Note that **in this coding environment, you will not be able to watch the agents while they are training**, and you should set `train_mode=True` to restart the environment."
   ]
  },
  {
   "cell_type": "code",
   "execution_count": 5,
   "metadata": {},
   "outputs": [
    {
     "name": "stdout",
     "output_type": "stream",
     "text": [
      "Total score (averaged over agents) this episode: 0.0\n"
     ]
    }
   ],
   "source": [
    "env_info = env.reset(train_mode=True)[brain_name]      # reset the environment    \n",
    "states = env_info.vector_observations                  # get the current state (for each agent)\n",
    "scores = np.zeros(num_agents)                          # initialize the score (for each agent)\n",
    "while True:\n",
    "    actions = np.random.randn(num_agents, action_size) # select an action (for each agent)\n",
    "    actions = np.clip(actions, -1, 1)                  # all actions between -1 and 1\n",
    "    env_info = env.step(actions)[brain_name]           # send all actions to tne environment\n",
    "    next_states = env_info.vector_observations         # get next state (for each agent)\n",
    "    rewards = env_info.rewards                         # get reward (for each agent)\n",
    "    dones = env_info.local_done                        # see if episode finished\n",
    "    scores += env_info.rewards                         # update the score (for each agent)\n",
    "    states = next_states                               # roll over states to next time step\n",
    "    if np.any(dones):                                  # exit loop if episode finished\n",
    "        break\n",
    "print('Total score (averaged over agents) this episode: {}'.format(np.mean(scores)))"
   ]
  },
  {
   "cell_type": "markdown",
   "metadata": {},
   "source": [
    "### 4. It's Your Turn!\n",
    "\n",
    "Now it's your turn to train your own agent to solve the environment!  A few **important notes**:\n",
    "- When training the environment, set `train_mode=True`, so that the line for resetting the environment looks like the following:\n",
    "```python\n",
    "env_info = env.reset(train_mode=True)[brain_name]\n",
    "```\n",
    "- To structure your work, you're welcome to work directly in this Jupyter notebook, or you might like to start over with a new file!  You can see the list of files in the workspace by clicking on **_Jupyter_** in the top left corner of the notebook.\n",
    "- In this coding environment, you will not be able to watch the agents while they are training.  However, **_after training the agents_**, you can download the saved model weights to watch the agents on your own machine! "
   ]
  },
  {
   "cell_type": "code",
   "execution_count": 6,
   "metadata": {},
   "outputs": [
    {
     "name": "stdout",
     "output_type": "stream",
     "text": [
      "Episode 10 (8s)\tMean: 1.0\tMoving Avg: 1.1\n",
      "Episode 20 (9s)\tMean: 0.9\tMoving Avg: 1.1\n",
      "Episode 30 (9s)\tMean: 0.6\tMoving Avg: 1.0\n",
      "Episode 40 (9s)\tMean: 1.0\tMoving Avg: 1.1\n",
      "Episode 50 (9s)\tMean: 5.0\tMoving Avg: 1.5\n",
      "Episode 60 (9s)\tMean: 2.8\tMoving Avg: 1.7\n",
      "Episode 70 (9s)\tMean: 3.7\tMoving Avg: 1.9\n",
      "Episode 80 (9s)\tMean: 2.7\tMoving Avg: 2.0\n",
      "Episode 90 (9s)\tMean: 2.3\tMoving Avg: 2.0\n",
      "Episode 100 (9s)\tMean: 3.9\tMoving Avg: 2.0\n",
      "Episode 110 (9s)\tMean: 2.8\tMoving Avg: 2.1\n",
      "Episode 120 (9s)\tMean: 1.5\tMoving Avg: 2.2\n",
      "Episode 130 (9s)\tMean: 3.5\tMoving Avg: 2.4\n",
      "Episode 140 (9s)\tMean: 3.0\tMoving Avg: 2.5\n",
      "Episode 150 (9s)\tMean: 2.4\tMoving Avg: 2.5\n",
      "Episode 160 (9s)\tMean: 3.5\tMoving Avg: 2.5\n",
      "Episode 170 (9s)\tMean: 2.1\tMoving Avg: 2.6\n",
      "Episode 180 (9s)\tMean: 5.0\tMoving Avg: 2.7\n",
      "Episode 190 (9s)\tMean: 3.6\tMoving Avg: 2.9\n",
      "Episode 200 (9s)\tMean: 3.6\tMoving Avg: 3.0\n",
      "Episode 210 (9s)\tMean: 7.1\tMoving Avg: 3.2\n",
      "Episode 220 (9s)\tMean: 4.5\tMoving Avg: 3.3\n",
      "Episode 230 (9s)\tMean: 2.8\tMoving Avg: 3.4\n",
      "Episode 240 (9s)\tMean: 1.6\tMoving Avg: 3.5\n",
      "Episode 250 (9s)\tMean: 7.5\tMoving Avg: 3.5\n",
      "Episode 260 (9s)\tMean: 5.2\tMoving Avg: 3.6\n",
      "Episode 270 (9s)\tMean: 1.6\tMoving Avg: 3.5\n",
      "Episode 280 (9s)\tMean: 4.4\tMoving Avg: 3.6\n",
      "Episode 290 (9s)\tMean: 6.7\tMoving Avg: 3.7\n",
      "Episode 300 (9s)\tMean: 7.1\tMoving Avg: 3.9\n",
      "Episode 310 (9s)\tMean: 4.5\tMoving Avg: 4.0\n",
      "Episode 320 (9s)\tMean: 6.7\tMoving Avg: 4.1\n",
      "Episode 330 (9s)\tMean: 7.6\tMoving Avg: 4.3\n",
      "Episode 340 (9s)\tMean: 7.0\tMoving Avg: 4.6\n",
      "Episode 350 (9s)\tMean: 6.0\tMoving Avg: 4.8\n",
      "Episode 360 (10s)\tMean: 2.5\tMoving Avg: 4.8\n",
      "Episode 370 (10s)\tMean: 10.1\tMoving Avg: 5.2\n",
      "Episode 380 (10s)\tMean: 8.4\tMoving Avg: 5.4\n",
      "Episode 390 (10s)\tMean: 4.3\tMoving Avg: 5.4\n",
      "Episode 400 (10s)\tMean: 5.7\tMoving Avg: 5.5\n",
      "Episode 410 (10s)\tMean: 6.8\tMoving Avg: 5.7\n",
      "Episode 420 (10s)\tMean: 7.9\tMoving Avg: 6.0\n",
      "Episode 430 (10s)\tMean: 6.5\tMoving Avg: 6.0\n",
      "Episode 440 (10s)\tMean: 5.2\tMoving Avg: 6.2\n",
      "Episode 450 (10s)\tMean: 5.5\tMoving Avg: 6.4\n",
      "Episode 460 (10s)\tMean: 10.7\tMoving Avg: 6.8\n",
      "Episode 470 (10s)\tMean: 8.5\tMoving Avg: 7.0\n",
      "Episode 480 (11s)\tMean: 8.9\tMoving Avg: 7.1\n",
      "Episode 490 (10s)\tMean: 5.1\tMoving Avg: 7.4\n",
      "Episode 500 (10s)\tMean: 8.9\tMoving Avg: 7.6\n",
      "Episode 510 (11s)\tMean: 9.3\tMoving Avg: 8.0\n",
      "Episode 520 (11s)\tMean: 11.0\tMoving Avg: 8.2\n",
      "Episode 530 (11s)\tMean: 14.2\tMoving Avg: 8.8\n",
      "Episode 540 (11s)\tMean: 14.5\tMoving Avg: 9.3\n",
      "Episode 550 (11s)\tMean: 13.0\tMoving Avg: 10.0\n",
      "Episode 560 (11s)\tMean: 10.5\tMoving Avg: 10.3\n",
      "Episode 570 (11s)\tMean: 14.9\tMoving Avg: 10.5\n",
      "Episode 580 (11s)\tMean: 10.8\tMoving Avg: 11.1\n",
      "Episode 590 (11s)\tMean: 10.1\tMoving Avg: 11.4\n",
      "Episode 600 (11s)\tMean: 15.5\tMoving Avg: 11.9\n",
      "Episode 610 (11s)\tMean: 15.1\tMoving Avg: 12.0\n",
      "Episode 620 (11s)\tMean: 9.3\tMoving Avg: 12.1\n",
      "Episode 630 (11s)\tMean: 12.7\tMoving Avg: 12.3\n",
      "Episode 640 (11s)\tMean: 13.4\tMoving Avg: 12.3\n",
      "Episode 650 (11s)\tMean: 14.4\tMoving Avg: 12.4\n",
      "Episode 660 (12s)\tMean: 11.6\tMoving Avg: 12.5\n",
      "Episode 670 (12s)\tMean: 14.6\tMoving Avg: 12.8\n",
      "Episode 680 (12s)\tMean: 12.7\tMoving Avg: 12.9\n",
      "Episode 690 (12s)\tMean: 19.8\tMoving Avg: 13.3\n",
      "Episode 700 (12s)\tMean: 16.4\tMoving Avg: 13.7\n",
      "Episode 710 (12s)\tMean: 12.5\tMoving Avg: 14.0\n",
      "Episode 720 (12s)\tMean: 13.1\tMoving Avg: 14.1\n",
      "Episode 730 (12s)\tMean: 15.5\tMoving Avg: 14.4\n",
      "Episode 740 (12s)\tMean: 13.2\tMoving Avg: 14.7\n",
      "Episode 750 (12s)\tMean: 12.2\tMoving Avg: 15.0\n",
      "Episode 760 (12s)\tMean: 13.0\tMoving Avg: 15.2\n",
      "Episode 770 (12s)\tMean: 18.7\tMoving Avg: 15.4\n",
      "Episode 780 (12s)\tMean: 18.1\tMoving Avg: 15.7\n",
      "Episode 790 (12s)\tMean: 18.2\tMoving Avg: 16.0\n",
      "Episode 800 (12s)\tMean: 21.9\tMoving Avg: 16.2\n",
      "Episode 810 (12s)\tMean: 18.7\tMoving Avg: 16.8\n",
      "Episode 820 (12s)\tMean: 21.9\tMoving Avg: 17.6\n",
      "Episode 830 (13s)\tMean: 21.1\tMoving Avg: 18.3\n",
      "Episode 840 (13s)\tMean: 20.1\tMoving Avg: 18.8\n",
      "Episode 850 (13s)\tMean: 24.4\tMoving Avg: 19.5\n",
      "Episode 860 (13s)\tMean: 28.1\tMoving Avg: 20.4\n",
      "Episode 870 (13s)\tMean: 26.1\tMoving Avg: 21.1\n",
      "Episode 880 (13s)\tMean: 28.0\tMoving Avg: 21.7\n",
      "Episode 890 (13s)\tMean: 19.2\tMoving Avg: 22.2\n",
      "Episode 900 (13s)\tMean: 25.1\tMoving Avg: 23.0\n",
      "Episode 910 (13s)\tMean: 23.8\tMoving Avg: 23.6\n",
      "Episode 920 (13s)\tMean: 26.3\tMoving Avg: 24.3\n",
      "Episode 930 (13s)\tMean: 26.5\tMoving Avg: 24.9\n",
      "Episode 940 (13s)\tMean: 33.1\tMoving Avg: 25.7\n",
      "Episode 950 (13s)\tMean: 23.9\tMoving Avg: 26.3\n",
      "Episode 960 (13s)\tMean: 30.8\tMoving Avg: 27.0\n",
      "Episode 970 (13s)\tMean: 28.6\tMoving Avg: 27.8\n",
      "Episode 980 (13s)\tMean: 28.0\tMoving Avg: 28.5\n",
      "Episode 990 (13s)\tMean: 26.5\tMoving Avg: 29.0\n",
      "Episode 1000 (14s)\tMean: 33.9\tMoving Avg: 29.6\n",
      "Episode 1005 (14s)\tAverage Score: 35.51\n",
      "Environment solved in 905 episodes!\t Average Score: 30.08\n",
      "\n",
      "Elapsed Time: 179.06 mins.\n"
     ]
    },
    {
     "data": {
      "image/png": "[encoded data removed]",
      "text/plain": [
       "<matplotlib.figure.Figure at 0x7fd504440b70>"
      ]
     },
     "metadata": {
      "needs_background": "light"
     },
     "output_type": "display_data"
    }
   ],
   "source": [
    "from collections import deque\n",
    "from workspace_utils import active_session\n",
    "import random\n",
    "import time\n",
    "import matplotlib.pyplot as plt\n",
    "import torch\n",
    "%matplotlib inline\n",
    "\n",
    "from ddpg_agent import Agent\n",
    "           \n",
    "agent = Agent(state_size=state_size, action_size=action_size, random_seed=9)\n",
    "    \n",
    "def ddpg(n_episodes=1500, max_t=1000, print_every=10):\n",
    "    scores_deque = deque(maxlen=100)\n",
    "    mean_list = []\n",
    "    moving_avg_list = []\n",
    "    for i_episode in range(1, n_episodes+1):\n",
    "        env_info = env.reset(train_mode=True)[brain_name]      \n",
    "        states = env_info.vector_observations\n",
    "        scores = np.zeros(num_agents)            \n",
    "        agent.reset()\n",
    "        start_time = time.time()\n",
    "        for t in range(max_t):\n",
    "            actions = agent.act(states,  add_noise=True)\n",
    "            env_info = env.step(actions)[brain_name]\n",
    "            next_states = env_info.vector_observations \n",
    "            rewards = env_info.rewards   \n",
    "            dones = env_info.local_done\n",
    "            for state, action, reward, next_state, done in zip(states, actions, rewards, next_states, dones):\n",
    "                agent.step(state, action, reward, next_state, done, t) \n",
    "            states = next_states\n",
    "            scores += rewards\n",
    "            if np.any(dones):\n",
    "                break \n",
    "        duration = time.time() - start_time\n",
    "        scores_deque.append(scores)\n",
    "        mean_list.append(np.mean(scores))\n",
    "        moving_avg_list.append(np.mean(scores_deque))\n",
    "        print('\\rEpisode {} ({}s)\\tAverage Score: {:.2f}'.format(i_episode,round(duration),mean_list[-1]), end=\"\")\n",
    "        if i_episode % print_every == 0:\n",
    "            torch.save(agent.actor_local.state_dict(), 'checkpoint_actor.pth')\n",
    "            torch.save(agent.critic_local.state_dict(), 'checkpoint_critic.pth')\n",
    "            print('\\rEpisode {} ({}s)\\tMean: {:.1f}\\tMoving Avg: {:.1f}'.format(\n",
    "                  i_episode, round(duration), mean_list[-1], moving_avg_list[-1]))\n",
    "        \n",
    "        if moving_avg_list[-1] >= 30.0 and i_episode >= 100:\n",
    "            print('\\nEnvironment solved in {:d} episodes!\\t Average Score: {:.2f}'.format(i_episode-100, moving_avg_list[-1]))            \n",
    "            break\n",
    "            \n",
    "    return mean_list, moving_avg_list\n",
    " \n",
    "with active_session():\n",
    "    start = time.time()\n",
    "    scores, moving_avg = ddpg()\n",
    "    end = time.time()\n",
    "    elapsed = (end - start) / 60.0 # in minutes\n",
    "    print(\"\\nElapsed Time: {0:3.2f} mins.\".format(elapsed))\n",
    "    fig = plt.figure()\n",
    "    \n",
    "    ax = fig.add_subplot(111) \n",
    "    plt.plot(np.arange(len(scores)), scores, label='DDPG')\n",
    "    plt.plot(np.arange(len(moving_avg)), moving_avg, c='r', label='Moving AVG')\n",
    "    plt.ylabel('Score')\n",
    "    plt.xlabel('Episode #')\n",
    "    plt.legend(loc='upper left')\n",
    "    plt.show()"
   ]
  },
  {
   "cell_type": "markdown",
   "metadata": {},
   "source": [
    "When finished, you can close the environment."
   ]
  },
  {
   "cell_type": "code",
   "execution_count": 7,
   "metadata": {},
   "outputs": [],
   "source": [
    "env.close()"
   ]
  },
  {
   "cell_type": "code",
   "execution_count": null,
   "metadata": {},
   "outputs": [],
   "source": []
  }
 ],
 "metadata": {
  "kernelspec": {
   "display_name": "Python 3",
   "language": "python",
   "name": "python3"
  },
  "language_info": {
   "codemirror_mode": {
    "name": "ipython",
    "version": 3
   },
   "file_extension": ".py",
   "mimetype": "text/x-python",
   "name": "python",
   "nbconvert_exporter": "python",
   "pygments_lexer": "ipython3",
   "version": "3.6.3"
  }
 },
 "nbformat": 4,
 "nbformat_minor": 2
}
